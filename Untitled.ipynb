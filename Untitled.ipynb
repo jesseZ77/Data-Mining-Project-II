{
 "cells": [
  {
   "cell_type": "code",
   "execution_count": 1,
   "metadata": {},
   "outputs": [],
   "source": [
    "from my_util import *\n",
    "import matplotlib.pyplot as plt"
   ]
  },
  {
   "cell_type": "code",
   "execution_count": 2,
   "metadata": {},
   "outputs": [],
   "source": [
    "data_c = load_data('^AXJO', 'classification')\n",
    "data_r = load_data('^AXJO', 'regression')"
   ]
  },
  {
   "cell_type": "code",
   "execution_count": 5,
   "metadata": {},
   "outputs": [
    {
     "data": {
      "text/plain": [
       "array([-0.00781932,  0.01779666,  0.00200172, ..., -0.00051997,\n",
       "        0.00539127,  0.00860992])"
      ]
     },
     "execution_count": 5,
     "metadata": {},
     "output_type": "execute_result"
    }
   ],
   "source": [
    "data_r[0][:, 0]"
   ]
  },
  {
   "cell_type": "code",
   "execution_count": 4,
   "metadata": {},
   "outputs": [
    {
     "data": {
      "text/plain": [
       "(array([[-0.00781932,  0.01779666,  0.00200172, ...,  0.00532163,\n",
       "          0.00203698,  0.00674029],\n",
       "        [ 0.01779666,  0.00200172, -0.01099828, ...,  0.00203698,\n",
       "          0.00674029, -0.00267873],\n",
       "        [ 0.00200172, -0.01099828, -0.00596086, ...,  0.00674029,\n",
       "         -0.00267873, -0.01274743],\n",
       "        ...,\n",
       "        [-0.00051997,  0.00539127,  0.00860992, ..., -0.00769316,\n",
       "         -0.00236766, -0.00573905],\n",
       "        [ 0.00539127,  0.00860992, -0.00117305, ..., -0.00236766,\n",
       "         -0.00573905, -0.00984558],\n",
       "        [ 0.00860992, -0.00117305, -0.00089904, ..., -0.00573905,\n",
       "         -0.00984558, -0.00224102]]),\n",
       " array([0., 0., 1., ..., 1., 1., 1.]),\n",
       " array([[-2.00183104e-02,  1.40339055e-02,  7.63931274e-03, ...,\n",
       "          2.52428773e-03,  1.45931219e-02, -1.05047075e-02],\n",
       "        [ 1.40339055e-02,  7.63931274e-03,  8.79282819e-03, ...,\n",
       "          1.45931219e-02, -1.05047075e-02, -1.03441171e-03],\n",
       "        [ 7.63931274e-03,  8.79282819e-03, -6.25930449e-03, ...,\n",
       "         -1.05047075e-02, -1.03441171e-03,  4.59116361e-03],\n",
       "        ...,\n",
       "        [-8.13577612e-03,  1.50330514e-02, -2.11460790e-03, ...,\n",
       "          8.47969791e-03, -7.21765735e-03,  1.16345753e-03],\n",
       "        [ 1.50330514e-02, -2.11460790e-03, -3.35518015e-05, ...,\n",
       "         -7.21765735e-03,  1.16345753e-03, -2.91130447e-03],\n",
       "        [-2.11460790e-03, -3.35518015e-05, -2.31485855e-02, ...,\n",
       "          1.16345753e-03, -2.91130447e-03, -1.10200400e-03]]),\n",
       " array([0., 0., 1., ..., 0., 0., 0.]))"
      ]
     },
     "execution_count": 4,
     "metadata": {},
     "output_type": "execute_result"
    }
   ],
   "source": [
    "plt.figure(figsize=(20, 10))\n",
    "plt.plot(data_r[0][:, 0])\n",
    "plt.plot(data_c[0][:, 0])"
   ]
  }
 ],
 "metadata": {
  "kernelspec": {
   "display_name": "Python 3",
   "language": "python",
   "name": "python3"
  },
  "language_info": {
   "codemirror_mode": {
    "name": "ipython",
    "version": 3
   },
   "file_extension": ".py",
   "mimetype": "text/x-python",
   "name": "python",
   "nbconvert_exporter": "python",
   "pygments_lexer": "ipython3",
   "version": "3.7.4"
  }
 },
 "nbformat": 4,
 "nbformat_minor": 2
}
